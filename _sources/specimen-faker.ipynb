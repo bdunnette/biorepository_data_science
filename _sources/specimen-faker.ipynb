{
 "cells": [
  {
   "cell_type": "code",
   "execution_count": 62,
   "metadata": {},
   "outputs": [],
   "source": [
    "import sys\n",
    "!{sys.executable} -m pip install -qq pandas faker"
   ]
  },
  {
   "cell_type": "code",
   "execution_count": 63,
   "metadata": {},
   "outputs": [],
   "source": [
    "import random\n",
    "import numpy as np\n",
    "import pandas as pd\n"
   ]
  },
  {
   "cell_type": "code",
   "execution_count": 64,
   "metadata": {},
   "outputs": [],
   "source": [
    "import faker\n"
   ]
  },
  {
   "cell_type": "code",
   "execution_count": 65,
   "metadata": {},
   "outputs": [],
   "source": [
    "fake = faker.Faker()\n"
   ]
  },
  {
   "cell_type": "code",
   "execution_count": 66,
   "metadata": {},
   "outputs": [],
   "source": [
    "SAMPLETYPES = [\"Blood\", \"Urine\", \"Serum\"]\n"
   ]
  },
  {
   "cell_type": "code",
   "execution_count": 75,
   "metadata": {},
   "outputs": [],
   "source": [
    "MIN_DELAY_HOURS = 4\n",
    "MAX_DELAY_HOURS = 168"
   ]
  },
  {
   "cell_type": "code",
   "execution_count": 76,
   "metadata": {},
   "outputs": [],
   "source": [
    "DATASET_SIZE = 1000\n"
   ]
  },
  {
   "cell_type": "code",
   "execution_count": 77,
   "metadata": {},
   "outputs": [],
   "source": [
    "specimens = pd.DataFrame(\n",
    "    {\n",
    "        \"LABID\": [fake.ean8() for i in range(DATASET_SIZE)],\n",
    "        \"SUBJECTID\": [fake.ean8() for i in range(DATASET_SIZE)],\n",
    "        \"SAMPLETYPE\": [random.choice(SAMPLETYPES) for i in range(DATASET_SIZE)],\n",
    "        \"CONTAINERID\": [fake.ean8() for i in range(DATASET_SIZE)],\n",
    "        \"ACCESSION\": [\"A\" + fake.ean8() for i in range(DATASET_SIZE)],\n",
    "        \"DATE_COLLECTED\": [fake.date_time_this_century() for i in range(DATASET_SIZE)],\n",
    "    }\n",
    ")\n"
   ]
  },
  {
   "cell_type": "code",
   "execution_count": 81,
   "metadata": {},
   "outputs": [],
   "source": [
    "# Add date received that is between 4 and 168 hours (one week) after date collected\n",
    "specimens[\"RECEIVE_DELAY_MINUTES\"] = np.random.randint(MIN_DELAY_HOURS*60, MAX_DELAY_HOURS*60, size=DATASET_SIZE)\n",
    "specimens[\"DATE_RECEIVED\"] = specimens[\"DATE_COLLECTED\"] + pd.to_timedelta(\n",
    "    specimens[\"RECEIVE_DELAY_MINUTES\"], unit=\"m\"\n",
    ")\n",
    "specimens.drop(columns=[\"RECEIVE_DELAY_MINUTES\"], inplace=True)\n"
   ]
  },
  {
   "cell_type": "code",
   "execution_count": 82,
   "metadata": {},
   "outputs": [
    {
     "data": {
      "text/html": [
       "<div>\n",
       "<style scoped>\n",
       "    .dataframe tbody tr th:only-of-type {\n",
       "        vertical-align: middle;\n",
       "    }\n",
       "\n",
       "    .dataframe tbody tr th {\n",
       "        vertical-align: top;\n",
       "    }\n",
       "\n",
       "    .dataframe thead th {\n",
       "        text-align: right;\n",
       "    }\n",
       "</style>\n",
       "<table border=\"1\" class=\"dataframe\">\n",
       "  <thead>\n",
       "    <tr style=\"text-align: right;\">\n",
       "      <th></th>\n",
       "      <th>LABID</th>\n",
       "      <th>SUBJECTID</th>\n",
       "      <th>SAMPLETYPE</th>\n",
       "      <th>CONTAINERID</th>\n",
       "      <th>ACCESSION</th>\n",
       "      <th>DATE_COLLECTED</th>\n",
       "      <th>DATE_RECEIVED</th>\n",
       "    </tr>\n",
       "  </thead>\n",
       "  <tbody>\n",
       "    <tr>\n",
       "      <th>0</th>\n",
       "      <td>75062507</td>\n",
       "      <td>00245197</td>\n",
       "      <td>Blood</td>\n",
       "      <td>19565309</td>\n",
       "      <td>A64382210</td>\n",
       "      <td>2008-01-24 04:30:40</td>\n",
       "      <td>2008-01-24 15:45:40</td>\n",
       "    </tr>\n",
       "    <tr>\n",
       "      <th>1</th>\n",
       "      <td>71746661</td>\n",
       "      <td>95645377</td>\n",
       "      <td>Urine</td>\n",
       "      <td>85089419</td>\n",
       "      <td>A20040574</td>\n",
       "      <td>2013-06-18 08:06:38</td>\n",
       "      <td>2013-06-22 08:33:38</td>\n",
       "    </tr>\n",
       "    <tr>\n",
       "      <th>2</th>\n",
       "      <td>01233964</td>\n",
       "      <td>32831337</td>\n",
       "      <td>Urine</td>\n",
       "      <td>13524883</td>\n",
       "      <td>A49724448</td>\n",
       "      <td>2014-11-01 01:50:40</td>\n",
       "      <td>2014-11-05 06:42:40</td>\n",
       "    </tr>\n",
       "    <tr>\n",
       "      <th>3</th>\n",
       "      <td>77753748</td>\n",
       "      <td>85500921</td>\n",
       "      <td>Serum</td>\n",
       "      <td>66818403</td>\n",
       "      <td>A14368011</td>\n",
       "      <td>2019-11-13 12:38:13</td>\n",
       "      <td>2019-11-16 02:50:13</td>\n",
       "    </tr>\n",
       "    <tr>\n",
       "      <th>4</th>\n",
       "      <td>63428858</td>\n",
       "      <td>56068078</td>\n",
       "      <td>Blood</td>\n",
       "      <td>37850876</td>\n",
       "      <td>A25679960</td>\n",
       "      <td>2008-06-27 13:03:16</td>\n",
       "      <td>2008-06-30 23:50:16</td>\n",
       "    </tr>\n",
       "    <tr>\n",
       "      <th>...</th>\n",
       "      <td>...</td>\n",
       "      <td>...</td>\n",
       "      <td>...</td>\n",
       "      <td>...</td>\n",
       "      <td>...</td>\n",
       "      <td>...</td>\n",
       "      <td>...</td>\n",
       "    </tr>\n",
       "    <tr>\n",
       "      <th>995</th>\n",
       "      <td>69417405</td>\n",
       "      <td>31278843</td>\n",
       "      <td>Blood</td>\n",
       "      <td>64759753</td>\n",
       "      <td>A68860684</td>\n",
       "      <td>2005-05-24 01:09:19</td>\n",
       "      <td>2005-05-27 12:34:19</td>\n",
       "    </tr>\n",
       "    <tr>\n",
       "      <th>996</th>\n",
       "      <td>75418250</td>\n",
       "      <td>95870625</td>\n",
       "      <td>Serum</td>\n",
       "      <td>90075384</td>\n",
       "      <td>A62946650</td>\n",
       "      <td>2004-04-16 05:26:23</td>\n",
       "      <td>2004-04-21 06:08:23</td>\n",
       "    </tr>\n",
       "    <tr>\n",
       "      <th>997</th>\n",
       "      <td>95966496</td>\n",
       "      <td>71600451</td>\n",
       "      <td>Serum</td>\n",
       "      <td>18913637</td>\n",
       "      <td>A99499310</td>\n",
       "      <td>2019-07-31 13:47:03</td>\n",
       "      <td>2019-08-01 01:37:03</td>\n",
       "    </tr>\n",
       "    <tr>\n",
       "      <th>998</th>\n",
       "      <td>62009218</td>\n",
       "      <td>50747696</td>\n",
       "      <td>Serum</td>\n",
       "      <td>65401071</td>\n",
       "      <td>A51452827</td>\n",
       "      <td>2000-06-25 17:57:34</td>\n",
       "      <td>2000-06-30 23:45:34</td>\n",
       "    </tr>\n",
       "    <tr>\n",
       "      <th>999</th>\n",
       "      <td>65429273</td>\n",
       "      <td>37441319</td>\n",
       "      <td>Blood</td>\n",
       "      <td>37247119</td>\n",
       "      <td>A74086207</td>\n",
       "      <td>2007-12-16 19:47:19</td>\n",
       "      <td>2007-12-19 03:01:19</td>\n",
       "    </tr>\n",
       "  </tbody>\n",
       "</table>\n",
       "<p>1000 rows × 7 columns</p>\n",
       "</div>"
      ],
      "text/plain": [
       "        LABID SUBJECTID SAMPLETYPE CONTAINERID  ACCESSION      DATE_COLLECTED  \\\n",
       "0    75062507  00245197      Blood    19565309  A64382210 2008-01-24 04:30:40   \n",
       "1    71746661  95645377      Urine    85089419  A20040574 2013-06-18 08:06:38   \n",
       "2    01233964  32831337      Urine    13524883  A49724448 2014-11-01 01:50:40   \n",
       "3    77753748  85500921      Serum    66818403  A14368011 2019-11-13 12:38:13   \n",
       "4    63428858  56068078      Blood    37850876  A25679960 2008-06-27 13:03:16   \n",
       "..        ...       ...        ...         ...        ...                 ...   \n",
       "995  69417405  31278843      Blood    64759753  A68860684 2005-05-24 01:09:19   \n",
       "996  75418250  95870625      Serum    90075384  A62946650 2004-04-16 05:26:23   \n",
       "997  95966496  71600451      Serum    18913637  A99499310 2019-07-31 13:47:03   \n",
       "998  62009218  50747696      Serum    65401071  A51452827 2000-06-25 17:57:34   \n",
       "999  65429273  37441319      Blood    37247119  A74086207 2007-12-16 19:47:19   \n",
       "\n",
       "          DATE_RECEIVED  \n",
       "0   2008-01-24 15:45:40  \n",
       "1   2013-06-22 08:33:38  \n",
       "2   2014-11-05 06:42:40  \n",
       "3   2019-11-16 02:50:13  \n",
       "4   2008-06-30 23:50:16  \n",
       "..                  ...  \n",
       "995 2005-05-27 12:34:19  \n",
       "996 2004-04-21 06:08:23  \n",
       "997 2019-08-01 01:37:03  \n",
       "998 2000-06-30 23:45:34  \n",
       "999 2007-12-19 03:01:19  \n",
       "\n",
       "[1000 rows x 7 columns]"
      ]
     },
     "execution_count": 82,
     "metadata": {},
     "output_type": "execute_result"
    }
   ],
   "source": [
    "specimens\n"
   ]
  }
 ],
 "metadata": {
  "kernelspec": {
   "display_name": "Python 3",
   "language": "python",
   "name": "python3"
  },
  "language_info": {
   "codemirror_mode": {
    "name": "ipython",
    "version": 3
   },
   "file_extension": ".py",
   "mimetype": "text/x-python",
   "name": "python",
   "nbconvert_exporter": "python",
   "pygments_lexer": "ipython3",
   "version": "3.10.8"
  },
  "orig_nbformat": 4,
  "vscode": {
   "interpreter": {
    "hash": "39a98efb9d77467784da9e34eb74859c7edf22758798901a4b916280a2fd03d4"
   }
  }
 },
 "nbformat": 4,
 "nbformat_minor": 2
}
